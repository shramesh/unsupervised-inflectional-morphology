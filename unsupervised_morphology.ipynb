{
 "cells": [
  {
   "cell_type": "code",
   "execution_count": 16,
   "metadata": {},
   "outputs": [
    {
     "data": {
      "text/html": [
       "\n",
       "    <div class=\"bk-root\">\n",
       "        <a href=\"https://bokeh.pydata.org\" target=\"_blank\" class=\"bk-logo bk-logo-small bk-logo-notebook\"></a>\n",
       "        <span id=\"f9eb2fe2-f14e-46b8-bdf9-2b1673f7afec\">Loading BokehJS ...</span>\n",
       "    </div>"
      ]
     },
     "metadata": {},
     "output_type": "display_data"
    },
    {
     "data": {
      "application/javascript": [
       "\n",
       "(function(root) {\n",
       "  function now() {\n",
       "    return new Date();\n",
       "  }\n",
       "\n",
       "  var force = true;\n",
       "\n",
       "  if (typeof (root._bokeh_onload_callbacks) === \"undefined\" || force === true) {\n",
       "    root._bokeh_onload_callbacks = [];\n",
       "    root._bokeh_is_loading = undefined;\n",
       "  }\n",
       "\n",
       "  var JS_MIME_TYPE = 'application/javascript';\n",
       "  var HTML_MIME_TYPE = 'text/html';\n",
       "  var EXEC_MIME_TYPE = 'application/vnd.bokehjs_exec.v0+json';\n",
       "  var CLASS_NAME = 'output_bokeh rendered_html';\n",
       "\n",
       "  /**\n",
       "   * Render data to the DOM node\n",
       "   */\n",
       "  function render(props, node) {\n",
       "    var script = document.createElement(\"script\");\n",
       "    node.appendChild(script);\n",
       "  }\n",
       "\n",
       "  /**\n",
       "   * Handle when an output is cleared or removed\n",
       "   */\n",
       "  function handleClearOutput(event, handle) {\n",
       "    var cell = handle.cell;\n",
       "\n",
       "    var id = cell.output_area._bokeh_element_id;\n",
       "    var server_id = cell.output_area._bokeh_server_id;\n",
       "    // Clean up Bokeh references\n",
       "    if (id !== undefined) {\n",
       "      Bokeh.index[id].model.document.clear();\n",
       "      delete Bokeh.index[id];\n",
       "    }\n",
       "\n",
       "    if (server_id !== undefined) {\n",
       "      // Clean up Bokeh references\n",
       "      var cmd = \"from bokeh.io.state import curstate; print(curstate().uuid_to_server['\" + server_id + \"'].get_sessions()[0].document.roots[0]._id)\";\n",
       "      cell.notebook.kernel.execute(cmd, {\n",
       "        iopub: {\n",
       "          output: function(msg) {\n",
       "            var element_id = msg.content.text.trim();\n",
       "            Bokeh.index[element_id].model.document.clear();\n",
       "            delete Bokeh.index[element_id];\n",
       "          }\n",
       "        }\n",
       "      });\n",
       "      // Destroy server and session\n",
       "      var cmd = \"import bokeh.io.notebook as ion; ion.destroy_server('\" + server_id + \"')\";\n",
       "      cell.notebook.kernel.execute(cmd);\n",
       "    }\n",
       "  }\n",
       "\n",
       "  /**\n",
       "   * Handle when a new output is added\n",
       "   */\n",
       "  function handleAddOutput(event, handle) {\n",
       "    var output_area = handle.output_area;\n",
       "    var output = handle.output;\n",
       "\n",
       "    // limit handleAddOutput to display_data with EXEC_MIME_TYPE content only\n",
       "    if ((output.output_type != \"display_data\") || (!output.data.hasOwnProperty(EXEC_MIME_TYPE))) {\n",
       "      return\n",
       "    }\n",
       "\n",
       "    var toinsert = output_area.element.find(`.${CLASS_NAME.split(' ')[0]}`);\n",
       "\n",
       "    if (output.metadata[EXEC_MIME_TYPE][\"id\"] !== undefined) {\n",
       "      toinsert[0].firstChild.textContent = output.data[JS_MIME_TYPE];\n",
       "      // store reference to embed id on output_area\n",
       "      output_area._bokeh_element_id = output.metadata[EXEC_MIME_TYPE][\"id\"];\n",
       "    }\n",
       "    if (output.metadata[EXEC_MIME_TYPE][\"server_id\"] !== undefined) {\n",
       "      var bk_div = document.createElement(\"div\");\n",
       "      bk_div.innerHTML = output.data[HTML_MIME_TYPE];\n",
       "      var script_attrs = bk_div.children[0].attributes;\n",
       "      for (var i = 0; i < script_attrs.length; i++) {\n",
       "        toinsert[0].firstChild.setAttribute(script_attrs[i].name, script_attrs[i].value);\n",
       "      }\n",
       "      // store reference to server id on output_area\n",
       "      output_area._bokeh_server_id = output.metadata[EXEC_MIME_TYPE][\"server_id\"];\n",
       "    }\n",
       "  }\n",
       "\n",
       "  function register_renderer(events, OutputArea) {\n",
       "\n",
       "    function append_mime(data, metadata, element) {\n",
       "      // create a DOM node to render to\n",
       "      var toinsert = this.create_output_subarea(\n",
       "        metadata,\n",
       "        CLASS_NAME,\n",
       "        EXEC_MIME_TYPE\n",
       "      );\n",
       "      this.keyboard_manager.register_events(toinsert);\n",
       "      // Render to node\n",
       "      var props = {data: data, metadata: metadata[EXEC_MIME_TYPE]};\n",
       "      render(props, toinsert[0]);\n",
       "      element.append(toinsert);\n",
       "      return toinsert\n",
       "    }\n",
       "\n",
       "    /* Handle when an output is cleared or removed */\n",
       "    events.on('clear_output.CodeCell', handleClearOutput);\n",
       "    events.on('delete.Cell', handleClearOutput);\n",
       "\n",
       "    /* Handle when a new output is added */\n",
       "    events.on('output_added.OutputArea', handleAddOutput);\n",
       "\n",
       "    /**\n",
       "     * Register the mime type and append_mime function with output_area\n",
       "     */\n",
       "    OutputArea.prototype.register_mime_type(EXEC_MIME_TYPE, append_mime, {\n",
       "      /* Is output safe? */\n",
       "      safe: true,\n",
       "      /* Index of renderer in `output_area.display_order` */\n",
       "      index: 0\n",
       "    });\n",
       "  }\n",
       "\n",
       "  // register the mime type if in Jupyter Notebook environment and previously unregistered\n",
       "  if (root.Jupyter !== undefined) {\n",
       "    var events = require('base/js/events');\n",
       "    var OutputArea = require('notebook/js/outputarea').OutputArea;\n",
       "\n",
       "    if (OutputArea.prototype.mime_types().indexOf(EXEC_MIME_TYPE) == -1) {\n",
       "      register_renderer(events, OutputArea);\n",
       "    }\n",
       "  }\n",
       "\n",
       "  \n",
       "  if (typeof (root._bokeh_timeout) === \"undefined\" || force === true) {\n",
       "    root._bokeh_timeout = Date.now() + 5000;\n",
       "    root._bokeh_failed_load = false;\n",
       "  }\n",
       "\n",
       "  var NB_LOAD_WARNING = {'data': {'text/html':\n",
       "     \"<div style='background-color: #fdd'>\\n\"+\n",
       "     \"<p>\\n\"+\n",
       "     \"BokehJS does not appear to have successfully loaded. If loading BokehJS from CDN, this \\n\"+\n",
       "     \"may be due to a slow or bad network connection. Possible fixes:\\n\"+\n",
       "     \"</p>\\n\"+\n",
       "     \"<ul>\\n\"+\n",
       "     \"<li>re-rerun `output_notebook()` to attempt to load from CDN again, or</li>\\n\"+\n",
       "     \"<li>use INLINE resources instead, as so:</li>\\n\"+\n",
       "     \"</ul>\\n\"+\n",
       "     \"<code>\\n\"+\n",
       "     \"from bokeh.resources import INLINE\\n\"+\n",
       "     \"output_notebook(resources=INLINE)\\n\"+\n",
       "     \"</code>\\n\"+\n",
       "     \"</div>\"}};\n",
       "\n",
       "  function display_loaded() {\n",
       "    var el = document.getElementById(\"f9eb2fe2-f14e-46b8-bdf9-2b1673f7afec\");\n",
       "    if (el != null) {\n",
       "      el.textContent = \"BokehJS is loading...\";\n",
       "    }\n",
       "    if (root.Bokeh !== undefined) {\n",
       "      if (el != null) {\n",
       "        el.textContent = \"BokehJS \" + root.Bokeh.version + \" successfully loaded.\";\n",
       "      }\n",
       "    } else if (Date.now() < root._bokeh_timeout) {\n",
       "      setTimeout(display_loaded, 100)\n",
       "    }\n",
       "  }\n",
       "\n",
       "\n",
       "  function run_callbacks() {\n",
       "    try {\n",
       "      root._bokeh_onload_callbacks.forEach(function(callback) { callback() });\n",
       "    }\n",
       "    finally {\n",
       "      delete root._bokeh_onload_callbacks\n",
       "    }\n",
       "    console.info(\"Bokeh: all callbacks have finished\");\n",
       "  }\n",
       "\n",
       "  function load_libs(js_urls, callback) {\n",
       "    root._bokeh_onload_callbacks.push(callback);\n",
       "    if (root._bokeh_is_loading > 0) {\n",
       "      console.log(\"Bokeh: BokehJS is being loaded, scheduling callback at\", now());\n",
       "      return null;\n",
       "    }\n",
       "    if (js_urls == null || js_urls.length === 0) {\n",
       "      run_callbacks();\n",
       "      return null;\n",
       "    }\n",
       "    console.log(\"Bokeh: BokehJS not loaded, scheduling load and callback at\", now());\n",
       "    root._bokeh_is_loading = js_urls.length;\n",
       "    for (var i = 0; i < js_urls.length; i++) {\n",
       "      var url = js_urls[i];\n",
       "      var s = document.createElement('script');\n",
       "      s.src = url;\n",
       "      s.async = false;\n",
       "      s.onreadystatechange = s.onload = function() {\n",
       "        root._bokeh_is_loading--;\n",
       "        if (root._bokeh_is_loading === 0) {\n",
       "          console.log(\"Bokeh: all BokehJS libraries loaded\");\n",
       "          run_callbacks()\n",
       "        }\n",
       "      };\n",
       "      s.onerror = function() {\n",
       "        console.warn(\"failed to load library \" + url);\n",
       "      };\n",
       "      console.log(\"Bokeh: injecting script tag for BokehJS library: \", url);\n",
       "      document.getElementsByTagName(\"head\")[0].appendChild(s);\n",
       "    }\n",
       "  };var element = document.getElementById(\"f9eb2fe2-f14e-46b8-bdf9-2b1673f7afec\");\n",
       "  if (element == null) {\n",
       "    console.log(\"Bokeh: ERROR: autoload.js configured with elementid 'f9eb2fe2-f14e-46b8-bdf9-2b1673f7afec' but no matching script tag was found. \")\n",
       "    return false;\n",
       "  }\n",
       "\n",
       "  var js_urls = [\"https://cdn.pydata.org/bokeh/release/bokeh-0.12.10.min.js\", \"https://cdn.pydata.org/bokeh/release/bokeh-widgets-0.12.10.min.js\", \"https://cdn.pydata.org/bokeh/release/bokeh-tables-0.12.10.min.js\", \"https://cdn.pydata.org/bokeh/release/bokeh-gl-0.12.10.min.js\"];\n",
       "\n",
       "  var inline_js = [\n",
       "    function(Bokeh) {\n",
       "      Bokeh.set_log_level(\"info\");\n",
       "    },\n",
       "    \n",
       "    function(Bokeh) {\n",
       "      \n",
       "    },\n",
       "    function(Bokeh) {\n",
       "      console.log(\"Bokeh: injecting CSS: https://cdn.pydata.org/bokeh/release/bokeh-0.12.10.min.css\");\n",
       "      Bokeh.embed.inject_css(\"https://cdn.pydata.org/bokeh/release/bokeh-0.12.10.min.css\");\n",
       "      console.log(\"Bokeh: injecting CSS: https://cdn.pydata.org/bokeh/release/bokeh-widgets-0.12.10.min.css\");\n",
       "      Bokeh.embed.inject_css(\"https://cdn.pydata.org/bokeh/release/bokeh-widgets-0.12.10.min.css\");\n",
       "      console.log(\"Bokeh: injecting CSS: https://cdn.pydata.org/bokeh/release/bokeh-tables-0.12.10.min.css\");\n",
       "      Bokeh.embed.inject_css(\"https://cdn.pydata.org/bokeh/release/bokeh-tables-0.12.10.min.css\");\n",
       "    }\n",
       "  ];\n",
       "\n",
       "  function run_inline_js() {\n",
       "    \n",
       "    if ((root.Bokeh !== undefined) || (force === true)) {\n",
       "      for (var i = 0; i < inline_js.length; i++) {\n",
       "        inline_js[i].call(root, root.Bokeh);\n",
       "      }if (force === true) {\n",
       "        display_loaded();\n",
       "      }} else if (Date.now() < root._bokeh_timeout) {\n",
       "      setTimeout(run_inline_js, 100);\n",
       "    } else if (!root._bokeh_failed_load) {\n",
       "      console.log(\"Bokeh: BokehJS failed to load within specified timeout.\");\n",
       "      root._bokeh_failed_load = true;\n",
       "    } else if (force !== true) {\n",
       "      var cell = $(document.getElementById(\"f9eb2fe2-f14e-46b8-bdf9-2b1673f7afec\")).parents('.cell').data().cell;\n",
       "      cell.output_area.append_execute_result(NB_LOAD_WARNING)\n",
       "    }\n",
       "\n",
       "  }\n",
       "\n",
       "  if (root._bokeh_is_loading === 0) {\n",
       "    console.log(\"Bokeh: BokehJS loaded, going straight to plotting\");\n",
       "    run_inline_js();\n",
       "  } else {\n",
       "    load_libs(js_urls, function() {\n",
       "      console.log(\"Bokeh: BokehJS plotting callback run at\", now());\n",
       "      run_inline_js();\n",
       "    });\n",
       "  }\n",
       "}(window));"
      ],
      "application/vnd.bokehjs_load.v0+json": "\n(function(root) {\n  function now() {\n    return new Date();\n  }\n\n  var force = true;\n\n  if (typeof (root._bokeh_onload_callbacks) === \"undefined\" || force === true) {\n    root._bokeh_onload_callbacks = [];\n    root._bokeh_is_loading = undefined;\n  }\n\n  \n\n  \n  if (typeof (root._bokeh_timeout) === \"undefined\" || force === true) {\n    root._bokeh_timeout = Date.now() + 5000;\n    root._bokeh_failed_load = false;\n  }\n\n  var NB_LOAD_WARNING = {'data': {'text/html':\n     \"<div style='background-color: #fdd'>\\n\"+\n     \"<p>\\n\"+\n     \"BokehJS does not appear to have successfully loaded. If loading BokehJS from CDN, this \\n\"+\n     \"may be due to a slow or bad network connection. Possible fixes:\\n\"+\n     \"</p>\\n\"+\n     \"<ul>\\n\"+\n     \"<li>re-rerun `output_notebook()` to attempt to load from CDN again, or</li>\\n\"+\n     \"<li>use INLINE resources instead, as so:</li>\\n\"+\n     \"</ul>\\n\"+\n     \"<code>\\n\"+\n     \"from bokeh.resources import INLINE\\n\"+\n     \"output_notebook(resources=INLINE)\\n\"+\n     \"</code>\\n\"+\n     \"</div>\"}};\n\n  function display_loaded() {\n    var el = document.getElementById(\"f9eb2fe2-f14e-46b8-bdf9-2b1673f7afec\");\n    if (el != null) {\n      el.textContent = \"BokehJS is loading...\";\n    }\n    if (root.Bokeh !== undefined) {\n      if (el != null) {\n        el.textContent = \"BokehJS \" + root.Bokeh.version + \" successfully loaded.\";\n      }\n    } else if (Date.now() < root._bokeh_timeout) {\n      setTimeout(display_loaded, 100)\n    }\n  }\n\n\n  function run_callbacks() {\n    try {\n      root._bokeh_onload_callbacks.forEach(function(callback) { callback() });\n    }\n    finally {\n      delete root._bokeh_onload_callbacks\n    }\n    console.info(\"Bokeh: all callbacks have finished\");\n  }\n\n  function load_libs(js_urls, callback) {\n    root._bokeh_onload_callbacks.push(callback);\n    if (root._bokeh_is_loading > 0) {\n      console.log(\"Bokeh: BokehJS is being loaded, scheduling callback at\", now());\n      return null;\n    }\n    if (js_urls == null || js_urls.length === 0) {\n      run_callbacks();\n      return null;\n    }\n    console.log(\"Bokeh: BokehJS not loaded, scheduling load and callback at\", now());\n    root._bokeh_is_loading = js_urls.length;\n    for (var i = 0; i < js_urls.length; i++) {\n      var url = js_urls[i];\n      var s = document.createElement('script');\n      s.src = url;\n      s.async = false;\n      s.onreadystatechange = s.onload = function() {\n        root._bokeh_is_loading--;\n        if (root._bokeh_is_loading === 0) {\n          console.log(\"Bokeh: all BokehJS libraries loaded\");\n          run_callbacks()\n        }\n      };\n      s.onerror = function() {\n        console.warn(\"failed to load library \" + url);\n      };\n      console.log(\"Bokeh: injecting script tag for BokehJS library: \", url);\n      document.getElementsByTagName(\"head\")[0].appendChild(s);\n    }\n  };var element = document.getElementById(\"f9eb2fe2-f14e-46b8-bdf9-2b1673f7afec\");\n  if (element == null) {\n    console.log(\"Bokeh: ERROR: autoload.js configured with elementid 'f9eb2fe2-f14e-46b8-bdf9-2b1673f7afec' but no matching script tag was found. \")\n    return false;\n  }\n\n  var js_urls = [\"https://cdn.pydata.org/bokeh/release/bokeh-0.12.10.min.js\", \"https://cdn.pydata.org/bokeh/release/bokeh-widgets-0.12.10.min.js\", \"https://cdn.pydata.org/bokeh/release/bokeh-tables-0.12.10.min.js\", \"https://cdn.pydata.org/bokeh/release/bokeh-gl-0.12.10.min.js\"];\n\n  var inline_js = [\n    function(Bokeh) {\n      Bokeh.set_log_level(\"info\");\n    },\n    \n    function(Bokeh) {\n      \n    },\n    function(Bokeh) {\n      console.log(\"Bokeh: injecting CSS: https://cdn.pydata.org/bokeh/release/bokeh-0.12.10.min.css\");\n      Bokeh.embed.inject_css(\"https://cdn.pydata.org/bokeh/release/bokeh-0.12.10.min.css\");\n      console.log(\"Bokeh: injecting CSS: https://cdn.pydata.org/bokeh/release/bokeh-widgets-0.12.10.min.css\");\n      Bokeh.embed.inject_css(\"https://cdn.pydata.org/bokeh/release/bokeh-widgets-0.12.10.min.css\");\n      console.log(\"Bokeh: injecting CSS: https://cdn.pydata.org/bokeh/release/bokeh-tables-0.12.10.min.css\");\n      Bokeh.embed.inject_css(\"https://cdn.pydata.org/bokeh/release/bokeh-tables-0.12.10.min.css\");\n    }\n  ];\n\n  function run_inline_js() {\n    \n    if ((root.Bokeh !== undefined) || (force === true)) {\n      for (var i = 0; i < inline_js.length; i++) {\n        inline_js[i].call(root, root.Bokeh);\n      }if (force === true) {\n        display_loaded();\n      }} else if (Date.now() < root._bokeh_timeout) {\n      setTimeout(run_inline_js, 100);\n    } else if (!root._bokeh_failed_load) {\n      console.log(\"Bokeh: BokehJS failed to load within specified timeout.\");\n      root._bokeh_failed_load = true;\n    } else if (force !== true) {\n      var cell = $(document.getElementById(\"f9eb2fe2-f14e-46b8-bdf9-2b1673f7afec\")).parents('.cell').data().cell;\n      cell.output_area.append_execute_result(NB_LOAD_WARNING)\n    }\n\n  }\n\n  if (root._bokeh_is_loading === 0) {\n    console.log(\"Bokeh: BokehJS loaded, going straight to plotting\");\n    run_inline_js();\n  } else {\n    load_libs(js_urls, function() {\n      console.log(\"Bokeh: BokehJS plotting callback run at\", now());\n      run_inline_js();\n    });\n  }\n}(window));"
     },
     "metadata": {},
     "output_type": "display_data"
    }
   ],
   "source": [
    "import os\n",
    "import nltk\n",
    "import numpy as np\n",
    "import pandas as pd\n",
    "\n",
    "# from pretty import pprint\n",
    "from bokeh.models import ColumnDataSource, LabelSet\n",
    "from bokeh.plotting import figure, show, output_file\n",
    "from bokeh.io import output_notebook\n",
    "output_notebook()\n",
    "\n",
    "from nltk.corpus.reader import CHILDESCorpusReader\n",
    "from nltk.downloader import Downloader\n",
    "nltk_download_dir = Downloader.default_download_dir(Downloader())"
   ]
  },
  {
   "cell_type": "code",
   "execution_count": null,
   "metadata": {},
   "outputs": [
    {
     "name": "stdout",
     "output_type": "stream",
     "text": [
      "loading:Peters - 0 of 48\n",
      "No. of speakers:25\n",
      "[('here', 'adv'), ('Weener', 'n:prop')]\n",
      "> <ipython-input-19-fe5259fcd5de>(18)<module>()\n",
      "-> for word_idx, (tagged_word, stemmed_word) in enumerate(zip(tagged_sent,stemmed_sent)):\n",
      "(Pdb) stem,tense\n",
      "('here', '')\n",
      "(Pdb) tagged_word\n",
      "('here', 'adv')\n",
      "(Pdb) tagged_word + (stem,tense)\n",
      "('here', 'adv', 'here', '')\n"
     ]
    }
   ],
   "source": [
    "corpus_root = os.path.join(nltk_download_dir,\n",
    "                                 'corpora/CHILDES/Eng-NA')\n",
    "chi_tagged_sents = []\n",
    "for idx, corpus_name in enumerate(os.listdir(corpus_root)):\n",
    "    print \"loading:{} - {} of {}\".format(corpus_name, idx, len(os.listdir(corpus_root)))\n",
    "    corpus = CHILDESCorpusReader(root=os.path.join(corpus_root,corpus_name), fileids='.+xml')\n",
    "    speakers = set()\n",
    "    for part in corpus.participants():\n",
    "        for spk in part.keys():\n",
    "            if spk != \"CHI\":\n",
    "                speakers.add(spk)\n",
    "        \n",
    "    print \"No. of speakers:{}\".format(len(speakers))\n",
    "    stemmed_sents = corpus.sents(fileids=corpus.fileids(),speaker=list(speakers),stem=True)\n",
    "    tagged_sents = corpus.tagged_sents(fileids=corpus.fileids(),speaker=list(speakers))\n",
    "    tagged_stemmed_sents = []\n",
    "    for sent_idx,(tagged_sent,stemmed_sent) in enumerate(zip(tagged_sents,stemmed_sents)):\n",
    "        tagged_stemmed_sent = []\n",
    "        for word_idx, (tagged_word, stemmed_word) in enumerate(zip(tagged_sent,stemmed_sent)):\n",
    "            if \"-\" in stemmed_word:\n",
    "                stem, tense = stemmed_word.split(\"-\")\n",
    "            else:\n",
    "                stem = stemmed_word\n",
    "                tense = \"\"\n",
    "            tagged_stemmed_sent.append(tagged_word + (stem,tense,)) \n",
    "        tagged_stemmed_sents.append(tagged_stemmed_sent)\n",
    "    chi_tagged_sents += tagged_stemmed_sents\n",
    "    \n",
    "#chi_sents = [[y.lower() for y in x] for x in chi_sents]    \n",
    "print \"no of sents:{}, no of words:{}\".format(len(chi_sents),len([y for x in chi_sents for y in x]))"
   ]
  },
  {
   "cell_type": "code",
   "execution_count": 15,
   "metadata": {},
   "outputs": [],
   "source": [
    "import pickle\n",
    "with open(\"biling_28_corpora_chd_sents.pkl\",\"w\") as op:\n",
    "    pickle.dump(chi_sents,op)    "
   ]
  },
  {
   "cell_type": "code",
   "execution_count": 12,
   "metadata": {},
   "outputs": [
    {
     "name": "stdout",
     "output_type": "stream",
     "text": [
      "loading:Peters - 0 of 48\n",
      "No. of speakers:25\n",
      "loading:Kuczaj - 1 of 48\n",
      "No. of speakers:16\n",
      "loading:Brent - 2 of 48\n",
      "No. of speakers:4\n",
      "loading:MacWhinney - 3 of 48\n",
      "No. of speakers:30\n",
      "loading:Warren - 4 of 48\n",
      "No. of speakers:3\n",
      "loading:Valian - 5 of 48\n",
      "No. of speakers:7\n",
      "loading:Bates - 6 of 48\n",
      "No. of speakers:4\n",
      "loading:Evans - 7 of 48\n",
      "No. of speakers:43\n",
      "loading:Post - 8 of 48\n",
      "No. of speakers:4\n",
      "loading:Higginson - 9 of 48\n",
      "No. of speakers:9\n",
      "loading:Bohannon - 10 of 48\n",
      "No. of speakers:39\n",
      "loading:VanKleeck - 11 of 48\n",
      "No. of speakers:1\n",
      "loading:Cornell - 12 of 48\n",
      "No. of speakers:37\n",
      "loading:Braunwald - 13 of 48\n",
      "No. of speakers:13\n",
      "loading:Brown - 14 of 48\n",
      "No. of speakers:31\n",
      "loading:Clark - 15 of 48\n",
      "No. of speakers:15\n",
      "loading:Morisset - 16 of 48\n",
      "No. of speakers:5\n",
      "loading:Gathercole - 17 of 48\n",
      "No. of speakers:33\n",
      "loading:McCune - 18 of 48\n",
      "No. of speakers:1\n",
      "loading:Nelson - 19 of 48\n",
      "No. of speakers:3\n",
      "loading:PetersonMcCabe - 20 of 48\n",
      "No. of speakers:1\n",
      "loading:Hall - 21 of 48\n",
      "No. of speakers:16\n",
      "loading:NewEngland - 22 of 48\n",
      "No. of speakers:3\n",
      "loading:Demetras1 - 23 of 48\n",
      "No. of speakers:1\n",
      "loading:Garvey - 24 of 48\n",
      "No. of speakers:48\n",
      "loading:Sawyer - 25 of 48\n",
      "No. of speakers:33\n",
      "loading:Feldman - 26 of 48\n",
      "No. of speakers:4\n",
      "loading:Bliss - 27 of 48\n",
      "No. of speakers:9\n",
      "loading:VanHouten - 28 of 48\n",
      "No. of speakers:6\n",
      "loading:Snow - 29 of 48\n",
      "No. of speakers:7\n",
      "loading:McMillan - 30 of 48\n",
      "No. of speakers:6\n",
      "loading:Bernstein - 31 of 48\n",
      "No. of speakers:2\n",
      "loading:Tardif - 32 of 48\n",
      "No. of speakers:1\n",
      "loading:HSLLD - 33 of 48\n",
      "No. of speakers:80\n",
      "loading:Sprott - 34 of 48\n",
      "No. of speakers:53\n",
      "loading:Demetras2 - 35 of 48\n",
      "No. of speakers:3\n",
      "loading:Gleason - 36 of 48\n",
      "No. of speakers:12\n",
      "loading:Bloom70 - 37 of 48\n",
      "No. of speakers:10\n",
      "loading:Hicks - 38 of 48\n",
      "No. of speakers:3\n",
      "loading:Haggerty - 39 of 48\n",
      "No. of speakers:0\n",
      "loading:Rollins - 40 of 48\n",
      "No. of speakers:3\n",
      "loading:Sachs - 41 of 48\n",
      "No. of speakers:6\n",
      "loading:Soderstrom - 42 of 48\n",
      "No. of speakers:7\n",
      "loading:Carterette - 43 of 48\n",
      "No. of speakers:0\n",
      "loading:Gopnik - 44 of 48\n",
      "No. of speakers:3\n",
      "loading:Suppes - 45 of 48\n",
      "No. of speakers:9\n",
      "loading:Bloom73 - 46 of 48\n",
      "No. of speakers:2\n",
      "loading:Weist - 47 of 48\n",
      "No. of speakers:20\n",
      "no of sents:2078904, no of words:8916872\n"
     ]
    }
   ],
   "source": [
    "corpus_root = os.path.join(nltk_download_dir,\n",
    "                                 'corpora/CHILDES/Eng-NA/')\n",
    "chi_sents = []\n",
    "for idx, corpus_name in enumerate(os.listdir(corpus_root)):\n",
    "    print \"loading:{} - {} of {}\".format(corpus_name, idx, len(os.listdir(corpus_root)))\n",
    "    corpus = CHILDESCorpusReader(root=os.path.join(corpus_root,corpus_name), fileids='.+xml')\n",
    "    speakers = set()\n",
    "    for part in corpus.participants():\n",
    "        for spk in part.keys():\n",
    "#             print spk\n",
    "            if spk != \"CHI\":\n",
    "                speakers.add(spk)\n",
    "        \n",
    "    print \"No. of speakers:{}\".format(len(speakers))\n",
    "    chi_sents += list(corpus.sents(fileids=corpus.fileids(),speaker=list(speakers)))\n",
    "    \n",
    "print \"no of sents:{}, no of words:{}\".format(len(chi_sents),len([y for x in chi_sents for y in x]))"
   ]
  },
  {
   "cell_type": "code",
   "execution_count": 41,
   "metadata": {},
   "outputs": [
    {
     "name": "stdout",
     "output_type": "stream",
     "text": [
      "no of sents:2078904, no of words:8916872\n",
      "no of sents:2078904, no of words:8916872\n"
     ]
    }
   ],
   "source": [
    "print \"no of sents:{}, no of words:{}\".format(len(chi_sents),len([y for x in chi_sents for y in x]))\n",
    "chi_sents = [[y.lower() for y in x] for x in chi_sents]\n",
    "print \"no of sents:{}, no of words:{}\".format(len(chi_sents),len([y for x in chi_sents for y in x]))"
   ]
  },
  {
   "cell_type": "code",
   "execution_count": 42,
   "metadata": {},
   "outputs": [],
   "source": [
    "import pickle\n",
    "with open(\"eng_na_48_corpora_non_chi_sents.pkl\",\"w\") as op:\n",
    "    pickle.dump(chi_sents,op)    "
   ]
  },
  {
   "cell_type": "code",
   "execution_count": 16,
   "metadata": {},
   "outputs": [],
   "source": [
    "sents = pickle.load(open(\"eng_na_48_corpora_sents.pkl\"))"
   ]
  },
  {
   "cell_type": "code",
   "execution_count": 14,
   "metadata": {},
   "outputs": [],
   "source": [
    "from gensim.models import Word2Vec"
   ]
  },
  {
   "cell_type": "code",
   "execution_count": 43,
   "metadata": {},
   "outputs": [],
   "source": [
    "model_childes_non_chi = Word2Vec(chi_sents, size=100, window=5, min_count=10, workers=4)"
   ]
  },
  {
   "cell_type": "code",
   "execution_count": 44,
   "metadata": {},
   "outputs": [],
   "source": [
    "model_childes_non_chi.save(\"w2v_childes_non_chi_48_corpora_100d\")"
   ]
  },
  {
   "cell_type": "code",
   "execution_count": 45,
   "metadata": {},
   "outputs": [
    {
     "data": {
      "text/plain": [
       "10696"
      ]
     },
     "execution_count": 45,
     "metadata": {},
     "output_type": "execute_result"
    }
   ],
   "source": [
    "model_childes = Word2Vec.load(\"w2v_childes_non_chi_48_corpora_100d\")\n",
    "len(model_childes_non_chi.wv.vocab)"
   ]
  },
  {
   "cell_type": "code",
   "execution_count": 17,
   "metadata": {},
   "outputs": [],
   "source": [
    "from collections import Counter\n",
    "words_top_childes =[word for word,_ in Counter(model_childes_non_chi.wv.vocab).most_common(2000)]\n",
    "words_top_vec_childes = model_childes_non_chi[words_top_childes]"
   ]
  },
  {
   "cell_type": "code",
   "execution_count": 18,
   "metadata": {},
   "outputs": [],
   "source": [
    "from sklearn.manifold import TSNE\n",
    "tsne = TSNE(n_components=2, random_state=0)\n",
    "words_top_childes_tsne = tsne.fit_transform(words_top_vec_childes)"
   ]
  },
  {
   "cell_type": "code",
   "execution_count": 19,
   "metadata": {},
   "outputs": [
    {
     "data": {
      "text/html": [
       "\n",
       "<div class=\"bk-root\">\n",
       "    <div class=\"bk-plotdiv\" id=\"015c3abe-da21-472d-8a78-5c1c9a082ac2\"></div>\n",
       "</div>"
      ]
     },
     "metadata": {},
     "output_type": "display_data"
    },
    {
     "data": {
      "application/javascript": [
       "(function(root) {\n",
       "  function embed_document(root) {\n",
       "    var docs_json = {\"0a9c8c1d-8e70-49df-bc3a-2fc7e2bc4555\":{\"roots\":{\"references\":[{\"attributes\":{\"below\":[{\"id\":\"1cebdb55-9215-4318-9f4e-c8513587ad83\",\"type\":\"LinearAxis\"}],\"left\":[{\"id\":\"ccf3b6d9-7951-4a96-8e94-c1b7cc0906f0\",\"type\":\"LinearAxis\"}],\"renderers\":[{\"id\":\"1cebdb55-9215-4318-9f4e-c8513587ad83\",\"type\":\"LinearAxis\"},{\"id\":\"1c08912c-77bb-4e3a-b575-0bdd380178e7\",\"type\":\"Grid\"},{\"id\":\"ccf3b6d9-7951-4a96-8e94-c1b7cc0906f0\",\"type\":\"LinearAxis\"},{\"id\":\"74c088e3-3595-4d1e-ba6e-2ac38b9a1602\",\"type\":\"Grid\"},{\"id\":\"50e7b96c-6865-4d59-907d-7214819cd009\",\"type\":\"GlyphRenderer\"},{\"id\":\"90342651-5f6c-438e-9557-841a9aa9ec49\",\"type\":\"LabelSet\"}],\"title\":{\"id\":\"a7dd0378-a21c-4f94-96d6-179411d5f34d\",\"type\":\"Title\"},\"toolbar\":{\"id\":\"13eb8acc-e6f5-4b7b-8336-93535c36b2b9\",\"type\":\"Toolbar\"},\"toolbar_location\":\"above\",\"x_range\":{\"id\":\"f4fc996b-e556-4212-9f60-e12339212131\",\"type\":\"DataRange1d\"},\"x_scale\":{\"id\":\"0baba5cc-d178-4479-a979-7c2b41be5043\",\"type\":\"LinearScale\"},\"y_range\":{\"id\":\"a9d681ce-d036-4e45-8a80-ad45b9136ac4\",\"type\":\"DataRange1d\"},\"y_scale\":{\"id\":\"0fb34407-3a34-492d-88ef-dda512eea959\",\"type\":\"LinearScale\"}},\"id\":\"4a8d1037-0386-4154-b478-7439a074d63d\",\"subtype\":\"Figure\",\"type\":\"Plot\"},{\"attributes\":{\"source\":{\"id\":\"1d7d3037-880e-453e-a480-bec93ec7ff11\",\"type\":\"ColumnDataSource\"}},\"id\":\"0738bd3b-171d-4c9a-b773-2ec1e92c3037\",\"type\":\"CDSView\"},{\"attributes\":{},\"id\":\"c389efce-077d-4c30-a1b2-604380315157\",\"type\":\"ResetTool\"},{\"attributes\":{\"plot\":{\"id\":\"4a8d1037-0386-4154-b478-7439a074d63d\",\"subtype\":\"Figure\",\"type\":\"Plot\"},\"source\":{\"id\":\"1d7d3037-880e-453e-a480-bec93ec7ff11\",\"type\":\"ColumnDataSource\"},\"text\":{\"field\":\"names\"},\"text_align\":\"center\",\"text_color\":{\"value\":\"#555555\"},\"text_font_size\":{\"value\":\"8pt\"},\"x\":{\"field\":\"x1\"},\"y\":{\"field\":\"x2\"},\"y_offset\":{\"value\":6}},\"id\":\"90342651-5f6c-438e-9557-841a9aa9ec49\",\"type\":\"LabelSet\"},{\"attributes\":{\"active_drag\":\"auto\",\"active_inspect\":\"auto\",\"active_scroll\":\"auto\",\"active_tap\":\"auto\",\"tools\":[{\"id\":\"6acc6fde-0365-4213-98a3-578e3b3ad575\",\"type\":\"PanTool\"},{\"id\":\"d1f9e082-e68d-48c0-93dc-99371ccaba7f\",\"type\":\"WheelZoomTool\"},{\"id\":\"c389efce-077d-4c30-a1b2-604380315157\",\"type\":\"ResetTool\"},{\"id\":\"2184e8a6-1d96-4c5a-b4d4-4f88545aaf64\",\"type\":\"SaveTool\"}]},\"id\":\"13eb8acc-e6f5-4b7b-8336-93535c36b2b9\",\"type\":\"Toolbar\"},{\"attributes\":{},\"id\":\"168a0281-f2b9-48a3-a782-93ccb187c20a\",\"type\":\"BasicTickFormatter\"},{\"attributes\":{\"fill_alpha\":{\"value\":0.1},\"fill_color\":{\"value\":\"#1f77b4\"},\"line_alpha\":{\"value\":0.1},\"line_color\":{\"value\":\"#1f77b4\"},\"size\":{\"units\":\"screen\",\"value\":8},\"x\":{\"field\":\"x1\"},\"y\":{\"field\":\"x2\"}},\"id\":\"0d52201d-f944-419b-9973-3bc3f76eb4f4\",\"type\":\"Circle\"},{\"attributes\":{},\"id\":\"0baba5cc-d178-4479-a979-7c2b41be5043\",\"type\":\"LinearScale\"},{\"attributes\":{\"plot\":null,\"text\":\"word2vec T-SNE for most common words\"},\"id\":\"a7dd0378-a21c-4f94-96d6-179411d5f34d\",\"type\":\"Title\"},{\"attributes\":{\"callback\":null,\"column_names\":[\"x2\",\"x1\",\"names\"],\"data\":{\"names\":[\"you\",\"the\",\"a\",\"it\",\"I\",\"what\",\"to\",\"that\",\"and\",\"is\",\"do\",\"in\",\"xxx\",\"oh\",\"this\",\"on\",\"okay\",\"your\",\"no\",\"that's\",\"don't\",\"yeah\",\"there\",\"go\",\"are\",\"here\",\"he\",\"we\",\"can\",\"see\",\"\",\"one\",\"like\",\"me\",\"did\",\"have\",\"it's\",\"of\",\"get\",\"want\",\"right\",\"put\",\"up\",\"know\",\"for\",\"with\",\"gonna\",\"not\",\"what's\",\"look\",\"now\",\"they\",\"all\",\"was\",\"you're\",\"good\",\"at\",\"come\",\"how\",\"so\",\"little\",\"think\",\"where\",\"just\",\"she\",\"well\",\"I'm\",\"some\",\"be\",\"my\",\"out\",\"down\",\"going\",\"got\",\"say\",\"huh\",\"let's\",\"yes\",\"but\",\"if\",\"why\",\"wanna\",\"then\",\"too\",\"back\",\"when\",\"www\",\"hm\",\"her\",\"does\",\"about\",\"over\",\"them\",\"play\",\"take\",\"more\",\"him\",\"his\",\"he's\",\"who\",\"make\",\"big\",\"I'll\",\"eat\",\"baby\",\"there's\",\"an\",\"doing\",\"have_to\",\"tell\",\"mhm\",\"off\",\"or\",\"would\",\"these\",\"very\",\"can't\",\"two\",\"those\",\"where's\",\"let\",\"didn't\",\"alright\",\"Mommy\",\"were\",\"said\",\"time\",\"book\",\"need\",\"give\",\"else\",\"way\",\"other\",\"uh\",\"they're\",\"something\",\"boy\",\"um\",\"hey\",\"nice\",\"really\",\"had\",\"sit\",\"uhhuh\",\"could\",\"we're\",\"will\",\"we'll\",\"house\",\"here's\",\"doesn't\",\"turn\",\"another\",\"car\",\"again\",\"has\",\"because\",\"any\",\"hi\",\"maybe\",\"goes\",\"from\",\"wait\",\"mm\",\"remember\",\"who's\",\"she's\",\"went\",\"should\",\"read\",\"away\",\"kind\",\"ya\",\"thing\",\"o\",\"thank_you\",\"water\",\"pretty\",\"today\",\"name\",\"around\",\"Daddy\",\"better\",\"try\",\"ah\",\"isn't\",\"ball\",\"things\",\"happened\",\"girl\",\"school\",\"please\",\"find\",\"help\",\"first\",\"sure\",\"three\",\"mean\",\"watch\",\"show\",\"home\",\"open\",\"bed\",\"Chi\",\"ready\",\"much\",\"hear\",\"talk\",\"hold\",\"looks\",\"still\",\"honey\",\"people\",\"mommy\",\"milk\",\"head\",\"by\",\"hair\",\"day\",\"stop\",\"d\",\"kitty\",\"red\",\"done\",\"as\",\"dog\",\"through\",\"says\",\"uhoh\",\"into\",\"juice\",\"box\",\"our\",\"which\",\"won't\",\"hand\",\"mouth\",\"chair\",\"minute\",\"use\",\"gotta\",\"hello\",\"us\",\"room\",\"man\",\"story\",\"color\",\"tape\",\"drink\",\"many\",\"bring\",\"daddy\",\"push\",\"table\",\"Laura\",\"work\",\"funny\",\"night\",\"called\",\"throw\",\"toys\",\"door\",\"made\",\"out_of\",\"five\",\"cat\",\"after\",\"only\",\"four\",\"anything\",\"new\",\"getting\",\"long\",\"their\",\"stuff\",\"last\",\"thought\",\"blue\",\"bit\",\"leave\",\"wow\",\"nose\",\"food\",\"hard\",\"before\",\"came\",\"truck\",\"next\",\"keep\",\"bear\",\"saw\",\"piece\",\"been\",\"Mama\",\"wan\",\"bad\",\"hurt\",\"you'll\",\"outside\",\"green\",\"paper\",\"stay\",\"hat\",\"pick\",\"cup\",\"wants\",\"hot\",\"even\",\"close\",\"top\",\"yep\",\"call\",\"might\",\"love\",\"write\",\"old\",\"shall\",\"picture\",\"enough\",\"hungry\",\"bath\",\"eating\",\"real\",\"together\",\"comes\",\"morning\",\"floor\",\"sleep\",\"playing\",\"hands\",\"move\",\"pull\",\"ate\",\"though\",\"guess\",\"Sarah\",\"while\",\"fall\",\"fish\",\"feet\",\"yellow\",\"careful\",\"clean\",\"coming\",\"bunny\",\"cold\",\"fell\",\"yet\",\"birthday\",\"fun\",\"feel\",\"part\",\"am\",\"inside\",\"looking\",\"ever\",\"walk\",\"silly\",\"face\",\"cut\",\"ride\",\"under\",\"aren't\",\"never\",\"bite\",\"doin\",\"Adam\",\"ask\",\"shoes\",\"than\",\"you've\",\"wasn't\",\"light\",\"making\",\"guys\",\"train\",\"cow\",\"Ross\",\"horse\",\"goin\",\"wash\",\"mine\",\"Mommy's\",\"sorry\",\"almost\",\"took\",\"foot\",\"draw\",\"stand\",\"Nomi\",\"buy\",\"Abe\",\"animals\",\"fix\",\"bus\",\"same\",\"finish\",\"eyes\",\"tree\",\"yourself\",\"thank\",\"already\",\"yours\",\"great\",\"money\",\"bye\",\"sing\",\"supposed\",\"trying\",\"everything\",\"start\",\"orange\",\"later\",\"sweetie\",\"found\",\"ice\",\"lot\",\"side\",\"whoa\",\"oops\",\"dinner\",\"end\",\"whole\",\"cookie\",\"different\",\"coffee\",\"wear\",\"hit\",\"bag\",\"must\",\"listen\",\"talking\",\"told\",\"apple\",\"mother\",\"doggie\",\"bird\",\"jump\",\"fit\",\"guy\",\"c\",\"y\",\"lunch\",\"ones\",\"chicken\",\"wrong\",\"happy\",\"cake\",\"place\",\"egg\",\"toy\",\"byebye\",\"game\",\"wanted\",\"six\",\"page\",\"Henry\",\"store\",\"always\",\"probably\",\"pretend\",\"tired\",\"idea\",\"breakfast\",\"tomorrow\",\"spoon\",\"left\",\"touch\",\"ahead\",\"uhuh\",\"finished\",\"bottle\",\"cheese\",\"somebody\",\"blocks\",\"n\",\"build\",\"yesterday\",\"gave\",\"duck\",\"kiss\",\"shirt\",\"zzz\",\"Daddy's\",\"Roman\",\"dirty\",\"Mom\",\"matter\",\"Mark\",\"kids\",\"I've\",\"job\",\"books\",\"break\",\"teeth\",\"lemme\",\"anymore\",\"run\",\"phone\",\"clothes\",\"second\",\"stick\",\"wet\",\"noise\",\"makes\",\"what'd\",\"boom\",\"both\",\"saying\",\"elephant\",\"white\",\"cream\",\"Peter\",\"used\",\"friend\",\"fire\",\"s\",\"lady\",\"nothing\",\"gets\",\"seen\",\"tea\",\"putting\",\"happens\",\"what're\",\"gone\",\"song\",\"party\",\"sometimes\",\"diaper\",\"blow\",\"may\",\"whoops\",\"sitting\",\"catch\",\"airplane\",\"peekaboo\",\"recorder\",\"bet\",\"brush\",\"pig\",\"Nathaniel\",\"having\",\"ten\",\"seven\",\"boat\",\"finger\",\"small\",\"hole\",\"one's\",\"everybody\",\"nope\",\"black\",\"front\",\"wouldn't\",\"bread\",\"pants\",\"em\",\"tonight\",\"live\",\"pictures\",\"cool\",\"set\",\"got_to\",\"window\",\"balloon\",\"it'll\",\"being\",\"fast\",\"cookies\",\"eight\",\"Brooklyn\",\"Nina\",\"either\",\"b\",\"letter\",\"mom\",\"word\",\"stuck\",\"favorite\",\"fine\",\"haha\",\"roll\",\"moon\",\"somethin\",\"high\",\"minutes\",\"nap\",\"shoe\",\"fingers\",\"week\",\"until\",\"kitchen\",\"puzzle\",\"a_lot_of\",\"taking\",\"haven't\",\"tickle\",\"chocolate\",\"taste\",\"doll\",\"means\",\"microphone\",\"oo\",\"likes\",\"yay\",\"movie\",\"happen\",\"cute\",\"broken\",\"ring\",\"own\",\"drive\",\"beautiful\",\"eggs\",\"Joseph\",\"change\",\"plate\",\"mess\",\"nine\",\"gon\",\"babies\",\"children\",\"boys\",\"caterpillar\",\"m\",\"behind\",\"bigger\",\"e\",\"rabbit\",\"ow\",\"dear\",\"flowers\",\"eye\",\"forgot\",\"rest\",\"bang\",\"lots_of\",\"you'd\",\"where'd\",\"horsie\",\"button\",\"year\",\"every\",\"yummy\",\"knock\",\"dry\",\"such\",\"Michael\",\"number\",\"tail\",\"couldn't\",\"soon\",\"tv\",\"cars\",\"dinosaur\",\"sound\",\"slide\",\"sun\",\"twenty\",\"whose\",\"once\",\"mouse\",\"actually\",\"I'd\",\"moo\",\"cause\",\"blanket\",\"t\",\"monkey\",\"pieces\",\"zoo\",\"poor\",\"needs\",\"David\",\"heard\",\"aw\",\"wipe\",\"upstairs\",\"oink\",\"telephone\",\"Eve\",\"i\",\"sleeping\",\"butter\",\"uhhum\",\"he'll\",\"round\",\"fly\",\"all_gone\",\"crying\",\"swimming\",\"bowl\",\"count\",\"Christmas\",\"yyy\",\"full\",\"sister\",\"half\",\"Shem\",\"care\",\"yum\",\"dress\",\"ear\",\"lion\",\"walking\",\"few\",\"kinda\",\"meat\",\"has_to\",\"le\",\"broke\",\"its\",\"cry\",\"brought\",\"snow\",\"cereal\",\"leg\",\"best\",\"sick\",\"friends\",\"supper\",\"park\",\"ha\",\"special\",\"warm\",\"alone\",\"words\",\"ears\",\"lost\",\"hope\",\"ahhah\",\"sugar\",\"scared\",\"beach\",\"anyway\",\"brother\",\"street\",\"legs\",\"elephants\",\"bottom\",\"shake\",\"animal\",\"sounds\",\"sweet\",\"understand\",\"hang\",\"sweetheart\",\"ta\",\"far\",\"wonder\",\"pen\",\"doctor\",\"tiny\",\"girls\",\"arm\",\"yup\",\"Paul\",\"Marky\",\"asked\",\"pencil\",\"ain't\",\"we've\",\"started\",\"choo\",\"circle\",\"soup\",\"thanks\",\"neat\",\"feed\",\"mad\",\"block\",\"mama\",\"seat\",\"cook\",\"Bro\",\"socks\",\"pop\",\"brown\",\"boo\",\"welcome\",\"quiet\",\"gimme\",\"colors\",\"sleepy\",\"knows\",\"she'll\",\"also\",\"easy\",\"baby's\",\"Bear\",\"u\",\"w\",\"g\",\"wha\",\"looked\",\"glass\",\"trees\",\"forget\",\"wheel\",\"pink\",\"puppy\",\"how's\",\"anybody\",\"fat\",\"rock\",\"quack\",\"meow\",\"person\",\"wheels\",\"Morgan\",\"heavy\",\"downstairs\",\"Dillon\",\"chew\",\"air\",\"sheep\",\"learn\",\"apart\",\"whee\",\"pour\",\"Mr\",\"lay\",\"basket\",\"candy\",\"whatcha\",\"flower\",\"running\",\"Matthew\",\"purple\",\"nobody\",\"someone\",\"couple\",\"gettin\",\"sad\",\"frog\",\"present\",\"dolly\",\"grass\",\"owl\",\"wall\",\"usually\",\"teacher\",\"Eric\",\"thirty\",\"holding\",\"knew\",\"Maggie\",\"shut\",\"excuse\",\"banana\",\"look_it\",\"toast\",\"check\",\"Baby\",\"mirror\",\"sandwich\",\"days\",\"glasses\",\"quick\",\"turned\",\"smell\",\"ran\",\"corn\",\"dogs\",\"bought\",\"tall\",\"played\",\"working\",\"rain\",\"cover\",\"comb\",\"living\",\"road\",\"dump\",\"happening\",\"tummy\",\"beep\",\"without\",\"Sunday\",\"quite\",\"believe\",\"dropped\",\"oh_my_goodness\",\"climb\",\"Sis\",\"hurry\",\"closed\",\"hop\",\"space\",\"teddy\",\"able\",\"clap\",\"Child\",\"hug\",\"each\",\"snake\",\"Jwww\",\"hide\",\"hum\",\"instead\",\"dance\",\"hammer\",\"loud\",\"oop\",\"Sally\",\"works\",\"peanut\",\"h\",\"somewhere\",\"r\",\"stairs\",\"music\",\"monster\",\"towel\",\"dark\",\"belly\",\"years\",\"swing\",\"wearing\",\"Dad\",\"ooh\",\"upside\",\"reading\",\"crayons\",\"dressed\",\"turtle\",\"bump\",\"farm\",\"since\",\"mail\",\"mommy's\",\"leaf\",\"pie\",\"pillow\",\"wake\",\"neck\",\"soft\",\"coat\",\"toes\",\"building\",\"mind\",\"middle\",\"clock\",\"wind\",\"busy\",\"piggy\",\"bug\",\"interesting\",\"tiger\",\"Pooh\",\"times\",\"paint\",\"wee\",\"telling\",\"share\",\"they'll\",\"butterfly\",\"letters\",\"along\",\"trouble\",\"carry\",\"Melissa\",\"pot\",\"record\",\"pool\",\"birds\",\"square\",\"Catherine\",\"himself\",\"snap\",\"spell\",\"grow\",\"line\",\"ago\",\"pee\",\"caught\",\"comin\",\"drop\",\"reach\",\"smart\",\"visit\",\"mkay\",\"God\",\"late\",\"dat\",\"Mrs\",\"spill\",\"bike\",\"o'clock\",\"pocket\",\"sort\",\"goodbye\",\"missed\",\"family\",\"dinosaurs\",\"Mandy\",\"tongue\",\"wish\",\"kick\",\"father\",\"lap\",\"hiding\",\"tractor\",\"tower\",\"true\",\"medicine\",\"kid\",\"woof\",\"screw\",\"Mickey\",\"card\",\"dragon\",\"string\",\"standing\",\"Xavier\",\"most\",\"Mister\",\"sand\",\"thinking\",\"early\",\"writing\",\"keys\",\"loves\",\"driving\",\"fixed\",\"Kalie\",\"weren't\",\"straight\",\"scary\",\"spider\",\"donkey\",\"problem\",\"dollars\",\"Pete\",\"daddy's\",\"Carl\",\"strong\",\"threw\",\"kinds\",\"miss\",\"Nana\",\"glad\",\"summer\",\"gosh\",\"soap\",\"watching\",\"whatever\",\"Bobby\",\"picnic\",\"da\",\"arms\",\"drinking\",\"swim\",\"waiting\",\"lives\",\"rocket\",\"toe\",\"l\",\"buttons\",\"Thomas\",\"dishes\",\"trip\",\"giving\",\"rice\",\"riding\",\"Ernie\",\"tie\",\"fork\",\"ssh\",\"ye\",\"so_that\",\"couch\",\"clown\",\"afraid\",\"garbage\",\"takes\",\"lookin\",\"dad\",\"chimney\",\"flying\",\"fence\",\"Mummy\",\"world\",\"step\",\"barn\",\"playin\",\"thirsty\",\"Grandma\",\"sky\",\"short\",\"f\",\"Jenny\",\"talkin\",\"yuck\",\"corner\",\"bridge\",\"ouch\",\"eh\",\"bounce\",\"cups\",\"class\",\"snack\",\"crazy\",\"bless\",\"leaves\",\"shouldn't\",\"garage\",\"Big_Bird\",\"sock\",\"boots\",\"men\",\"weeks\",\"turkey\",\"pumpkin\",\"holes\",\"falling\",\"asleep\",\"flew\",\"yucky\",\"ground\",\"grandma\",\"refrigerator\",\"save\",\"stories\",\"crayon\",\"point\",\"dead\",\"machine\",\"Friday\",\"balls\",\"napkin\",\"star\",\"myself\",\"fruit\",\"horses\",\"ho\",\"bubbles\",\"turning\",\"lie\",\"dis\",\"empty\",\"yea\",\"past\",\"hurts\",\"god\",\"course\",\"jacket\",\"fight\",\"body\",\"jus\",\"bunch\",\"Santa\",\"drawing\",\"lamb\",\"spaghetti\",\"carrot\",\"slice\",\"voice\",\"chairs\",\"Saturday\",\"singing\",\"pay\",\"jumped\",\"cracker\",\"bears\",\"John\",\"doggy\",\"sink\",\"Jennifer\",\"giraffe\",\"knocked\",\"liked\",\"beans\",\"Megan\",\"p\",\"pat\",\"moving\",\"rooster\",\"hospital\",\"spot\",\"my_goodness\",\"picked\",\"policeman\",\"pajamas\",\"salt\",\"shh\",\"salad\",\"eleven\",\"presents\",\"Matty\",\"pet\",\"Dada\",\"knife\",\"potatoes\",\"slow\",\"garden\",\"next_to\",\"everyone\",\"fits\",\"engine\",\"jumping\",\"plane\",\"dancing\",\"zoom\",\"Timmy\",\"yeh\",\"Santa_Claus\",\"onto\",\"birdie\",\"oatmeal\",\"twelve\",\"cats\",\"missing\",\"stayed\",\"rug\",\"hundred\",\"Grover\",\"tried\",\"key\",\"angry\",\"pizza\",\"Karen\",\"underneath\",\"cocoon\",\"bib\",\"figure\",\"cards\",\"tryin\",\"closet\",\"worry\",\"Travis\",\"k\",\"rocks\",\"Patrick\",\"motorcycle\",\"eatin\",\"baa\",\"cowboy\",\"names\",\"between\",\"Ma\",\"tight\",\"Ryan\",\"June\",\"makin\",\"wood\",\"tire\",\"grab\",\"Alexander\",\"Allen\",\"whats\",\"hate\",\"gum\",\"pushed\",\"ummhm\",\"whoop\",\"lose\",\"across\",\"kangaroo\",\"question\",\"Robin\",\"eats\",\"answer\",\"stomach\",\"lights\",\"bee\",\"mister\",\"shoot\",\"that'll\",\"cows\",\"hour\",\"puppet\",\"except\",\"dessert\",\"circus\",\"crash\",\"near\",\"everywhere\",\"dream\",\"anywhere\",\"Swww\",\"town\",\"hafta\",\"backwards\",\"raining\",\"meet\",\"piggie\",\"shape\",\"laughing\",\"gas\",\"cupcake\",\"Miss\",\"strawberries\",\"Donald\",\"tunnel\",\"Monday\",\"pattycake\",\"delicious\",\"Ty\",\"helmet\",\"games\",\"walks\",\"sticks\",\"wonderful\",\"bicycle\",\"trick\",\"peek\",\"press\",\"stove\",\"ducks\",\"Bird\",\"dish\",\"Alex\",\"fifty\",\"sat\",\"carrots\",\"wagon\",\"dada\",\"roof\",\"heart\",\"tastes\",\"teach\",\"Erin\",\"afternoon\",\"built\",\"king\",\"apples\",\"Mary\",\"church\",\"Tony\",\"oven\",\"drawer\",\"crawl\",\"The\",\"Ben\",\"balloons\",\"trash\",\"penny\",\"hunhunh\",\"shopping\",\"er\",\"driver\",\"reason\",\"using\",\"least\",\"ding\",\"umbrella\",\"Dingo\",\"spilled\",\"dirt\",\"changed\",\"ladder\",\"purse\",\"buddy\",\"poo\",\"walked\",\"Bert\",\"momma\",\"named\",\"feels\",\"stopped\",\"trunk\",\"smile\",\"mud\",\"washed\",\"pulling\",\"plant\",\"awful\",\"closer\",\"magic\",\"splash\",\"pigs\",\"yard\",\"scissors\",\"shower\",\"numbers\",\"Elmo\",\"till\",\"th\",\"knee\",\"easier\",\"Joey\",\"awoh\",\"triangle\",\"wa\",\"throwing\",\"shop\",\"recording\",\"crackers\",\"Papa\",\"calling\",\"rather\",\"gun\",\"hook\",\"tear\",\"sweater\",\"thumb\",\"belong\",\"football\",\"scratch\",\"pears\",\"pottie\",\"win\",\"sign\",\"cents\",\"bone\",\"Cheerios\",\"sticky\",\"bell\",\"cha\",\"messy\",\"television\",\"Wednesday\",\"pancakes\",\"felt\",\"dollar\",\"beat\",\"Judy\",\"Fraser\",\"kill\",\"size\",\"lived\",\"Thursday\",\"cooking\",\"cmon\",\"listening\",\"sayin\",\"giant\",\"laugh\",\"Jesus\",\"peas\",\"magnet\",\"spit\",\"carriage\",\"oranges\",\"born\",\"pipe\",\"super\",\"beads\",\"plastic\",\"turns\",\"board\",\"camera\",\"how'd\",\"exactly\",\"keeps\",\"duckie\",\"Joe\",\"sir\",\"terrible\",\"forty\",\"washing\",\"Andy\",\"starts\",\"alligator\",\"lettuce\",\"weekend\",\"none\",\"mix\",\"jelly\",\"sharp\",\"pages\",\"tha\",\"Mama's\",\"grandpa\",\"rolling\",\"pushing\",\"hill\",\"we'd\",\"Mot\",\"vroom\",\"cleaning\",\"Weener\",\"yogurt\",\"tools\",\"life\",\"pass\",\"v\",\"willn't\",\"send\",\"choke\",\"Johnny\",\"hee\",\"tray\",\"drum\",\"ba\",\"potato\",\"opened\",\"land\",\"lift\",\"runs\",\"sea\",\"suppose\",\"shot\",\"diapers\",\"Graeme\",\"Linda\",\"kisses\",\"trucks\",\"hanging\",\"longer\",\"goodness\",\"soda\",\"Chris\",\"Big\",\"older\",\"potty\",\"pan\",\"squeak\",\"sent\",\"french\",\"crib\",\"Debbie\",\"tub\",\"against\",\"rope\",\"surprise\",\"Charlie\",\"tooth\",\"Kim\",\"hon\",\"seems\",\"son\",\"bow\",\"Brittany\",\"nothin\",\"good_night\",\"row\",\"Lois\",\"rough\",\"night_night\",\"Theo\",\"Morgie\",\"baseball\",\"pony\",\"pickle\",\"Emily\",\"Katie\",\"gee\",\"lying\",\"bugs\",\"broom\",\"duh\",\"excited\",\"Mother\",\"lollipop\",\"Jack\",\"handle\",\"grapes\",\"blowing\",\"feeling\",\"j\",\"Patsy\",\"jack\",\"skin\",\"switch\",\"cried\",\"radio\",\"seem\",\"Tuesday\",\"dangerous\",\"anyone\",\"rubber\",\"thinks\",\"cough\",\"gotcha\",\"Urs\",\"wolf\",\"where're\",\"cherry\",\"plenty\",\"zipper\",\"farmer\",\"gentle\",\"stars\",\"chin\",\"besides\",\"x\",\"race\",\"plates\",\"plums\",\"falls\",\"ew\",\"kept\",\"tweet\",\"rattle\",\"pulled\",\"oopsie\",\"Brian\",\"quit\",\"squirt\",\"fair\",\"fifteen\",\"child\",\"pack\",\"meant\",\"la\",\"vacation\",\"fresh\",\"woke\",\"third\",\"color's\",\"Rachel\",\"flat\",\"smoke\",\"Mouse\",\"lets\",\"hamburger\",\"quarter\",\"tasty\",\"gate\",\"woo\",\"sausage\",\"office\",\"gi\",\"awright\",\"merry\",\"lots\",\"sauce\",\"lucky\",\"pair\",\"dolls\",\"tissue\",\"faster\",\"wrote\",\"African\",\"deep\",\"froggie\",\"won\",\"Tabitha\",\"Jilly\",\"stir\",\"snowman\",\"asking\",\"accident\",\"Uncle\",\"belongs\",\"lid\",\"horn\",\"Aislinn\",\"Mooshas\",\"library\",\"cash\",\"months\",\"witch\",\"noisy\",\"Sean\",\"ruff\",\"pin\",\"river\",\"scare\",\"hasn't\",\"toilet\",\"Todd\",\"bubble\",\"Nonna\",\"chickens\",\"ketchup\",\"each_other\",\"Oscar\",\"Dwww\",\"nah\",\"squeeze\",\"bucket\",\"dig\",\"pretending\",\"interested\",\"Derwood\",\"suitcase\",\"Oliver\",\"nail\",\"unless\",\"watermelon\",\"learned\",\"Anthony\",\"suit\",\"alive\",\"pocketbook\",\"cone\",\"Mia\",\"country\",\"sittin\",\"monkeys\",\"kitten\",\"clouds\",\"fold\",\"died\",\"macaroni\",\"houses\",\"applesauce\",\"case\",\"squirrel\",\"vegetables\",\"Steven\",\"castle\",\"somebody's\",\"beds\",\"knees\",\"yall\",\"cage\",\"speak\",\"picking\",\"sticking\",\"Brett\",\"fuzzy\",\"die\",\"Kent\",\"Grandpa\",\"difference\",\"Halloween\",\"seesaw\",\"smaller\",\"strawberry\",\"rip\",\"puts\",\"spin\",\"cross\",\"pepper\",\"zip\",\"wild\",\"certainly\",\"upon\",\"station\",\"Man_man\",\"worm\",\"strange\",\"goose\",\"raisins\",\"talked\",\"Tyrese\",\"noodles\",\"dunno\",\"grape\",\"biting\",\"wide\",\"carpet\",\"Little\",\"weird\",\"bones\",\"stool\",\"woman\",\"Easter\",\"mark\",\"punch\",\"fireman\",\"climbing\",\"darling\",\"batteries\",\"secret\",\"herself\",\"dollie\",\"George\",\"plants\",\"tough\",\"cutting\",\"princess\",\"steps\",\"furniture\",\"museum\",\"sh\",\"Christopher\",\"iron\",\"Jason\",\"piano\",\"stupid\",\"fox\",\"he'd\",\"puzzles\",\"doo\",\"she'd\",\"motor\",\"rides\",\"Boo\",\"fill\",\"New\",\"surprised\",\"young\",\"zebra\",\"Andrew\",\"deal\",\"screwdriver\",\"cutie\",\"blankie\",\"J_J\",\"beginning\",\"Snoopy\",\"nono\",\"bat\",\"seeds\",\"baba\",\"gotten\",\"bathroom\",\"tells\",\"extra\",\"register\",\"winter\",\"dog's\",\"Samantha\",\"belt\",\"fighting\",\"James\",\"Seth\",\"hitting\",\"lick\",\"salami\",\"Danny\",\"helping\",\"march\",\"rings\",\"Bob\",\"shelf\",\"bother\",\"bark\",\"wings\",\"desk\",\"hen\",\"boy's\",\"takin\",\"wave\",\"yell\",\"city\",\"stack\",\"Lisa\",\"lock\",\"rub\",\"slippers\",\"fixing\",\"chalk\",\"group\",\"stays\",\"often\",\"wh\",\"preschool\",\"police\",\"pile\",\"whale\",\"Bambi\",\"above\",\"locked\",\"fact\",\"important\",\"magazine\",\"tomato\",\"free\",\"kitty's\",\"nut\",\"Richard\",\"Asian\",\"growing\",\"Cinderella\",\"leaving\",\"sometime\",\"Big_bird\",\"everybody's\",\"fishing\",\"blood\",\"whether\",\"Cromer\",\"windows\",\"plays\",\"movies\",\"regular\",\"pancake\",\"helped\",\"z\",\"choose\",\"Steve\",\"gobble\",\"basketball\",\"news\",\"mice\",\"dumb\",\"glue\",\"stinky\",\"bananas\",\"flies\",\"Momma\",\"songs\",\"ocean\",\"helicopter\",\"painting\",\"kittens\",\"taken\",\"rocking\",\"Tim\",\"cleaned\",\"nursery\",\"doors\",\"bottles\",\"brothers\",\"shovel\",\"Emma\",\"goat\",\"rid\",\"cannot\",\"they've\",\"decided\",\"there're\",\"bright\",\"boxes\",\"pennies\",\"market\",\"grocery\",\"carrying\",\"sees\",\"vacuum\",\"Chantilly\",\"prince\",\"computer\",\"bringing\",\"guitar\",\"dough\",\"chips\",\"Deborah\",\"gives\",\"mittens\",\"burp\",\"Donna\",\"tusks\",\"necklace\",\"Remi\",\"snip\",\"throat\",\"nurse\",\"loose\",\"parts\",\"monsters\",\"ugly\",\"mountain\",\"attention\",\"Jaylen\",\"bakery\",\"month\",\"Gabriella\",\"lemon\",\"doggies\",\"uncle\",\"Musab\",\"beef\",\"bonk\",\"clay\",\"opens\",\"lines\",\"spank\",\"hah\",\"naughty\",\"places\",\"watched\",\"ribbon\",\"Doctor\",\"chest\",\"johnnie\",\"mistake\",\"sits\",\"track\",\"Tom\",\"mother's\",\"hers\",\"whoo\",\"dere\",\"bags\",\"fishies\",\"deer\",\"Red\",\"cousin\",\"fur\",\"Toddy\",\"Jessica\",\"order\",\"drank\",\"bake\",\"bees\",\"Stefan\",\"chick\",\"chewing\",\"peaches\",\"eaten\",\"popcorn\",\"Julia\",\"de\",\"Georgie\",\"follow\",\"jar\",\"noises\",\"Ursula\",\"shapes\",\"laundry\",\"Bugs\",\"honk\",\"biggest\",\"Rolan\",\"Tadi\",\"toothbrush\",\"havin\",\"safe\",\"candle\",\"Duck\",\"bites\",\"harder\"],\"x1\":{\"__ndarray__\":\"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\",\"dtype\":\"float64\",\"shape\":[2000]},\"x2\":{\"__ndarray__\":\"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\",\"dtype\":\"float64\",\"shape\":[2000]}}},\"id\":\"1d7d3037-880e-453e-a480-bec93ec7ff11\",\"type\":\"ColumnDataSource\"},{\"attributes\":{\"formatter\":{\"id\":\"d8251efa-95b4-479a-a5a4-d05f0ec21351\",\"type\":\"BasicTickFormatter\"},\"plot\":{\"id\":\"4a8d1037-0386-4154-b478-7439a074d63d\",\"subtype\":\"Figure\",\"type\":\"Plot\"},\"ticker\":{\"id\":\"b3fa3916-6027-4c37-ace8-496e24b84490\",\"type\":\"BasicTicker\"}},\"id\":\"1cebdb55-9215-4318-9f4e-c8513587ad83\",\"type\":\"LinearAxis\"},{\"attributes\":{\"plot\":{\"id\":\"4a8d1037-0386-4154-b478-7439a074d63d\",\"subtype\":\"Figure\",\"type\":\"Plot\"},\"ticker\":{\"id\":\"b3fa3916-6027-4c37-ace8-496e24b84490\",\"type\":\"BasicTicker\"}},\"id\":\"1c08912c-77bb-4e3a-b575-0bdd380178e7\",\"type\":\"Grid\"},{\"attributes\":{},\"id\":\"2184e8a6-1d96-4c5a-b4d4-4f88545aaf64\",\"type\":\"SaveTool\"},{\"attributes\":{},\"id\":\"b3fa3916-6027-4c37-ace8-496e24b84490\",\"type\":\"BasicTicker\"},{\"attributes\":{},\"id\":\"6acc6fde-0365-4213-98a3-578e3b3ad575\",\"type\":\"PanTool\"},{\"attributes\":{},\"id\":\"0fb34407-3a34-492d-88ef-dda512eea959\",\"type\":\"LinearScale\"},{\"attributes\":{\"dimension\":1,\"plot\":{\"id\":\"4a8d1037-0386-4154-b478-7439a074d63d\",\"subtype\":\"Figure\",\"type\":\"Plot\"},\"ticker\":{\"id\":\"d34254cb-b489-4dbe-905c-bd40b5d9725c\",\"type\":\"BasicTicker\"}},\"id\":\"74c088e3-3595-4d1e-ba6e-2ac38b9a1602\",\"type\":\"Grid\"},{\"attributes\":{\"formatter\":{\"id\":\"168a0281-f2b9-48a3-a782-93ccb187c20a\",\"type\":\"BasicTickFormatter\"},\"plot\":{\"id\":\"4a8d1037-0386-4154-b478-7439a074d63d\",\"subtype\":\"Figure\",\"type\":\"Plot\"},\"ticker\":{\"id\":\"d34254cb-b489-4dbe-905c-bd40b5d9725c\",\"type\":\"BasicTicker\"}},\"id\":\"ccf3b6d9-7951-4a96-8e94-c1b7cc0906f0\",\"type\":\"LinearAxis\"},{\"attributes\":{\"callback\":null},\"id\":\"f4fc996b-e556-4212-9f60-e12339212131\",\"type\":\"DataRange1d\"},{\"attributes\":{\"data_source\":{\"id\":\"1d7d3037-880e-453e-a480-bec93ec7ff11\",\"type\":\"ColumnDataSource\"},\"glyph\":{\"id\":\"41be9cf4-3c9c-48ef-a705-59e351aead39\",\"type\":\"Circle\"},\"hover_glyph\":null,\"muted_glyph\":null,\"nonselection_glyph\":{\"id\":\"0d52201d-f944-419b-9973-3bc3f76eb4f4\",\"type\":\"Circle\"},\"selection_glyph\":null,\"view\":{\"id\":\"0738bd3b-171d-4c9a-b773-2ec1e92c3037\",\"type\":\"CDSView\"}},\"id\":\"50e7b96c-6865-4d59-907d-7214819cd009\",\"type\":\"GlyphRenderer\"},{\"attributes\":{\"fill_color\":{\"value\":\"#1f77b4\"},\"line_color\":{\"value\":\"#1f77b4\"},\"size\":{\"units\":\"screen\",\"value\":8},\"x\":{\"field\":\"x1\"},\"y\":{\"field\":\"x2\"}},\"id\":\"41be9cf4-3c9c-48ef-a705-59e351aead39\",\"type\":\"Circle\"},{\"attributes\":{},\"id\":\"d8251efa-95b4-479a-a5a4-d05f0ec21351\",\"type\":\"BasicTickFormatter\"},{\"attributes\":{},\"id\":\"d1f9e082-e68d-48c0-93dc-99371ccaba7f\",\"type\":\"WheelZoomTool\"},{\"attributes\":{\"callback\":null},\"id\":\"a9d681ce-d036-4e45-8a80-ad45b9136ac4\",\"type\":\"DataRange1d\"},{\"attributes\":{},\"id\":\"d34254cb-b489-4dbe-905c-bd40b5d9725c\",\"type\":\"BasicTicker\"}],\"root_ids\":[\"4a8d1037-0386-4154-b478-7439a074d63d\"]},\"title\":\"Bokeh Application\",\"version\":\"0.12.10\"}};\n",
       "    var render_items = [{\"docid\":\"0a9c8c1d-8e70-49df-bc3a-2fc7e2bc4555\",\"elementid\":\"015c3abe-da21-472d-8a78-5c1c9a082ac2\",\"modelid\":\"4a8d1037-0386-4154-b478-7439a074d63d\"}];\n",
       "\n",
       "    root.Bokeh.embed.embed_items(docs_json, render_items);\n",
       "  }\n",
       "\n",
       "  if (root.Bokeh !== undefined) {\n",
       "    embed_document(root);\n",
       "  } else {\n",
       "    var attempts = 0;\n",
       "    var timer = setInterval(function(root) {\n",
       "      if (root.Bokeh !== undefined) {\n",
       "        embed_document(root);\n",
       "        clearInterval(timer);\n",
       "      }\n",
       "      attempts++;\n",
       "      if (attempts > 100) {\n",
       "        console.log(\"Bokeh: ERROR: Unable to embed document because BokehJS library is missing\")\n",
       "        clearInterval(timer);\n",
       "      }\n",
       "    }, 10, root)\n",
       "  }\n",
       "})(window);"
      ],
      "application/vnd.bokehjs_exec.v0+json": ""
     },
     "metadata": {
      "application/vnd.bokehjs_exec.v0+json": {
       "id": "4a8d1037-0386-4154-b478-7439a074d63d"
      }
     },
     "output_type": "display_data"
    }
   ],
   "source": [
    "p = figure(tools=\"pan,wheel_zoom,reset,save\",\n",
    "           toolbar_location=\"above\",\n",
    "           title=\"word2vec T-SNE for most common words\")\n",
    "\n",
    "source = ColumnDataSource(data=dict(x1=words_top_childes_tsne[:,0],\n",
    "                                    x2=words_top_childes_tsne[:,1],\n",
    "                                    names=words_top_childes))\n",
    "\n",
    "p.scatter(x=\"x1\", y=\"x2\", size=8, source=source)\n",
    "\n",
    "labels = LabelSet(x=\"x1\", y=\"x2\", text=\"names\", y_offset=6,\n",
    "                  text_font_size=\"8pt\", text_color=\"#555555\",\n",
    "                  source=source, text_align='center')\n",
    "p.add_layout(labels)\n",
    "\n",
    "show(p)"
   ]
  },
  {
   "cell_type": "code",
   "execution_count": 46,
   "metadata": {},
   "outputs": [
    {
     "data": {
      "text/plain": [
       "[('eats', 0.6455464363098145),\n",
       " ('died', 0.5804065465927124),\n",
       " ('drank', 0.5433886051177979),\n",
       " ('strawberries', 0.5418684482574463),\n",
       " ('counted', 0.5367332696914673),\n",
       " ('dropped', 0.5352165699005127),\n",
       " ('opened', 0.5203690528869629),\n",
       " ('fed', 0.5065531730651855),\n",
       " ('tuesday', 0.4864012598991394),\n",
       " ('dripped', 0.48536232113838196)]"
      ]
     },
     "execution_count": 46,
     "metadata": {},
     "output_type": "execute_result"
    }
   ],
   "source": [
    "model_childes_non_chi.most_similar(\"ate\")"
   ]
  },
  {
   "cell_type": "code",
   "execution_count": 56,
   "metadata": {},
   "outputs": [
    {
     "name": "stdout",
     "output_type": "stream",
     "text": [
      "[('saying', 0.7501683235168457), ('smashing', 0.5600122809410095), ('doin', 0.5551191568374634), ('doing', 0.5506622791290283), ('banging', 0.5422933101654053), ('hammering', 0.5377984642982483), ('singin', 0.5371065139770508), ('forgetting', 0.535422682762146), ('drooling', 0.5231882929801941), ('scratching', 0.510175883769989)]\n",
      "\n",
      "\n",
      "[('saying', 1.1412880420684814), ('smashing', 1.0010014772415161), ('banging', 0.9769524931907654), ('doing', 0.9727226495742798), ('hammering', 0.969954788684845), ('doin', 0.9697802662849426), ('gross', 0.9610768556594849), ('forgetting', 0.9568312168121338), ('drooling', 0.9565542340278625), ('singin', 0.9468454122543335)]\n"
     ]
    }
   ],
   "source": [
    "x=\"say\"\n",
    "y=\"sayin\"\n",
    "xx=\"ask\"\n",
    "# yy=\"hearing\"\n",
    "print model_childes_non_chi.wv.most_similar(positive=[x, y], negative=[xx])\n",
    "print \"\\n\"\n",
    "print model_childes_non_chi.wv.most_similar_cosmul(positive=[x, y], negative=[xx])"
   ]
  },
  {
   "cell_type": "code",
   "execution_count": 57,
   "metadata": {},
   "outputs": [
    {
     "name": "stdout",
     "output_type": "stream",
     "text": [
      "[('queen', 0.661608099937439), ('stepmother', 0.5044884085655212), ('ghost', 0.499464750289917), ('president', 0.49387654662132263), ('princess', 0.49111342430114746), ('witch', 0.48674657940864563), ('lee', 0.48491913080215454), ('palace', 0.47978657484054565), ('prince', 0.47871941328048706), ('arthur', 0.47593194246292114)]\n",
      "\n",
      "\n",
      "[('queen', 0.9610638618469238), ('stepmother', 0.8883181214332581), ('lee', 0.8673344254493713), ('tales', 0.8524205684661865), ('named', 0.8489049077033997), ('princess', 0.8421226739883423), ('ghost', 0.8415479063987732), ('godmother', 0.8412274122238159), ('palace', 0.8406979441642761), ('male', 0.8401831388473511)]\n"
     ]
    }
   ],
   "source": [
    "x=\"woman\"\n",
    "y=\"king\"\n",
    "xx=\"man\"\n",
    "# yy=\"hearing\"\n",
    "print model_childes_non_chi.wv.most_similar(positive=[x, y], negative=[xx])\n",
    "print \"\\n\"\n",
    "print model_childes_non_chi.wv.most_similar_cosmul(positive=[x, y], negative=[xx])"
   ]
  },
  {
   "cell_type": "markdown",
   "metadata": {},
   "source": [
    "# Things to do: \n",
    "1. Inspect participants metadata for all speakers\n",
    "2. Min edit distance\n",
    "3. Restrict to only plurals, past-tenses, present-continuous\n",
    "4. Average the difference vectors between pairs, and apply the transformation, to find the vector that is most similar to the resultant vector"
   ]
  }
 ],
 "metadata": {
  "kernelspec": {
   "display_name": "Python 2",
   "language": "python",
   "name": "python2"
  },
  "language_info": {
   "codemirror_mode": {
    "name": "ipython",
    "version": 2
   },
   "file_extension": ".py",
   "mimetype": "text/x-python",
   "name": "python",
   "nbconvert_exporter": "python",
   "pygments_lexer": "ipython2",
   "version": "2.7.6"
  }
 },
 "nbformat": 4,
 "nbformat_minor": 2
}
